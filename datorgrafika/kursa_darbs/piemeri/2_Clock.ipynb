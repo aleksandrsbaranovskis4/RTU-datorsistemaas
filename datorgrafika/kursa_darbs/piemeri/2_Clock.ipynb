{
 "cells": [
  {
   "cell_type": "markdown",
   "id": "b3353544",
   "metadata": {},
   "source": [
    "Nepieciešamās bibliotēkas/Necessary libraries:\n",
    "\n",
    "* tkinter\n",
    "* PIL\n",
    "* time\n",
    "* math"
   ]
  },
  {
   "cell_type": "code",
   "execution_count": null,
   "id": "f5bf179e",
   "metadata": {},
   "outputs": [],
   "source": [
    "import tkinter as tk\n",
    "from PIL import Image, ImageTk\n",
    "import time\n",
    "import math\n",
    "\n",
    "class AnalogClock:\n",
    "    def __init__(self, root):\n",
    "        self.root = root\n",
    "        self.root.title(\"Analog Clock\")\n",
    "\n",
    "        # Load your images here\n",
    "        self.second_hand_img = Image.open(\"hand.png\")\n",
    "\n",
    "        # Canvas for clock\n",
    "        self.canvas = tk.Canvas(root, width=400, height=400, bg='white')\n",
    "        self.canvas.pack(expand=True, fill='both')\n",
    "\n",
    "        # Initial hand positions\n",
    "        self.update_clock()\n",
    "\n",
    "    def rotate_image(self, image, angle):\n",
    "        return image.rotate(angle, resample=Image.BICUBIC, expand=True)\n",
    "\n",
    "    def update_clock(self):\n",
    "        now = time.localtime()\n",
    "        seconds = now.tm_sec\n",
    "\n",
    "        # Update minute hand\n",
    "        second_angle = seconds * 6  # Each minute is 6 degrees\n",
    "        rotated_second_img = self.rotate_image(self.second_hand_img, -second_angle)\n",
    "        self.second_hand = ImageTk.PhotoImage(rotated_second_img)\n",
    "        self.canvas.create_image(200, 200, image=self.second_hand)\n",
    "\n",
    "        # Refresh every 1000 ms\n",
    "        self.root.after(1000, self.update_clock)\n",
    "\n",
    "root = tk.Tk()\n",
    "clock = AnalogClock(root)\n",
    "root.mainloop()"
   ]
  },
  {
   "cell_type": "code",
   "execution_count": null,
   "id": "9e8162f3",
   "metadata": {},
   "outputs": [],
   "source": []
  }
 ],
 "metadata": {
  "kernelspec": {
   "display_name": "Python 3 (ipykernel)",
   "language": "python",
   "name": "python3"
  },
  "language_info": {
   "codemirror_mode": {
    "name": "ipython",
    "version": 3
   },
   "file_extension": ".py",
   "mimetype": "text/x-python",
   "name": "python",
   "nbconvert_exporter": "python",
   "pygments_lexer": "ipython3",
   "version": "3.11.5"
  }
 },
 "nbformat": 4,
 "nbformat_minor": 5
}
