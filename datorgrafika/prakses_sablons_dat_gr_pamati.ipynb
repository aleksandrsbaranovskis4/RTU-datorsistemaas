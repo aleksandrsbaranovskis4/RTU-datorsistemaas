{
 "cells": [
  {
   "cell_type": "markdown",
   "id": "177a3426",
   "metadata": {},
   "source": [
    "## <center> RĪGAS TEHNISKĀ UNIVERSITĀTE\n",
    "\n",
    "### <center>DATORZINĀTNES UN INFORMĀCIJAS TEHNOLOĢIJAS FAKULTĀTE\n",
    "\n",
    "\n",
    "### <center>Datorgrafikas un attēlu apstrādes pamati\n",
    "<br> <hr>\n",
    "#### Praktiskā darba Nr. X\n",
    "#### Vārds, Uzvārds:\n",
    "#### Studenta apliecības nummurs:\n"
   ]
  },
  {
   "cell_type": "markdown",
   "id": "4bf39cd8",
   "metadata": {},
   "source": [
    "## DARBA UZDEVUMS\n",
    "Lūdzu ievietojiet šajā sadaļā darba uzdevumu un variantu!"
   ]
  },
  {
   "cell_type": "code",
   "execution_count": 2,
   "id": "747350e3",
   "metadata": {},
   "outputs": [],
   "source": [
    "# Programmējamais kods"
   ]
  }
 ],
 "metadata": {
  "celltoolbar": "Raw Cell Format",
  "kernelspec": {
   "display_name": "Python 3 (ipykernel)",
   "language": "python",
   "name": "python3"
  },
  "language_info": {
   "codemirror_mode": {
    "name": "ipython",
    "version": 3
   },
   "file_extension": ".py",
   "mimetype": "text/x-python",
   "name": "python",
   "nbconvert_exporter": "python",
   "pygments_lexer": "ipython3",
   "version": "3.9.7"
  }
 },
 "nbformat": 4,
 "nbformat_minor": 5
}
