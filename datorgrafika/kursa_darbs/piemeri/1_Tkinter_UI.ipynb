{
 "cells": [
  {
   "cell_type": "code",
   "execution_count": null,
   "id": "15d54c70",
   "metadata": {},
   "outputs": [],
   "source": [
    "import tkinter as tk\n",
    "\n",
    "def display_text():\n",
    "    \"\"\" Function to display the entered text. \"\"\"\n",
    "    entered_text = text_entry.get()\n",
    "    display_label.config(text=entered_text)\n",
    "\n",
    "# Create the main window\n",
    "root = tk.Tk()\n",
    "root.title(\"Text Display App\")\n",
    "\n",
    "# Create a text entry widget\n",
    "text_entry = tk.Entry(root, width=20)\n",
    "text_entry.pack()\n",
    "\n",
    "# Create a button to trigger the display of text\n",
    "display_button = tk.Button(root, text=\"Display Text\", command=display_text)\n",
    "display_button.pack()\n",
    "\n",
    "# Create a label to display the text\n",
    "display_label = tk.Label(root, text=\"\")\n",
    "display_label.pack()\n",
    "\n",
    "# Start the GUI event loop\n",
    "root.mainloop()"
   ]
  },
  {
   "cell_type": "code",
   "execution_count": null,
   "id": "20c6b86e",
   "metadata": {},
   "outputs": [],
   "source": []
  }
 ],
 "metadata": {
  "kernelspec": {
   "display_name": "Python 3 (ipykernel)",
   "language": "python",
   "name": "python3"
  },
  "language_info": {
   "codemirror_mode": {
    "name": "ipython",
    "version": 3
   },
   "file_extension": ".py",
   "mimetype": "text/x-python",
   "name": "python",
   "nbconvert_exporter": "python",
   "pygments_lexer": "ipython3",
   "version": "3.11.5"
  }
 },
 "nbformat": 4,
 "nbformat_minor": 5
}
